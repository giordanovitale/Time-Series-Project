{
 "cells": [
  {
   "cell_type": "markdown",
   "metadata": {},
   "source": [
    "Import libraries"
   ]
  },
  {
   "cell_type": "code",
   "execution_count": 20,
   "metadata": {},
   "outputs": [],
   "source": [
    "import pandas as pd\n",
    "import numpy as np\n",
    "import matplotlib.pyplot as plt\n",
    "from scipy import stats\n",
    "from sklearn.decomposition import PCA\n",
    "from statsmodels.tsa.api import SARIMAX\n",
    "from statsmodels.tsa.arima.model import ARIMA\n",
    "from statsmodels.tsa.api import VAR\n",
    "from statsmodels.tools.eval_measures import rmse, aic"
   ]
  },
  {
   "cell_type": "code",
   "execution_count": 2,
   "metadata": {},
   "outputs": [],
   "source": [
    "xls = pd.ExcelFile('Data.xlsx')\n",
    "df = xls.parse(0)\n",
    "factors_df = xls.parse(1)"
   ]
  },
  {
   "cell_type": "code",
   "execution_count": 3,
   "metadata": {},
   "outputs": [],
   "source": [
    "df['Time'] = pd.to_datetime(df['Time'])\n",
    "factors_df['Time'] = pd.to_datetime(factors_df['Time'])"
   ]
  },
  {
   "cell_type": "code",
   "execution_count": 4,
   "metadata": {},
   "outputs": [
    {
     "data": {
      "text/html": [
       "<div>\n",
       "<style scoped>\n",
       "    .dataframe tbody tr th:only-of-type {\n",
       "        vertical-align: middle;\n",
       "    }\n",
       "\n",
       "    .dataframe tbody tr th {\n",
       "        vertical-align: top;\n",
       "    }\n",
       "\n",
       "    .dataframe thead th {\n",
       "        text-align: right;\n",
       "    }\n",
       "</style>\n",
       "<table border=\"1\" class=\"dataframe\">\n",
       "  <thead>\n",
       "    <tr style=\"text-align: right;\">\n",
       "      <th></th>\n",
       "      <th>Time</th>\n",
       "      <th>GDPC1</th>\n",
       "      <th>PCECTPI</th>\n",
       "      <th>TB3MS</th>\n",
       "      <th>GS10</th>\n",
       "    </tr>\n",
       "  </thead>\n",
       "  <tbody>\n",
       "    <tr>\n",
       "      <th>0</th>\n",
       "      <td>1960-06-30</td>\n",
       "      <td>3430.057</td>\n",
       "      <td>15.331</td>\n",
       "      <td>3.5400</td>\n",
       "      <td>4.5033</td>\n",
       "    </tr>\n",
       "    <tr>\n",
       "      <th>1</th>\n",
       "      <td>1960-09-30</td>\n",
       "      <td>3439.832</td>\n",
       "      <td>15.415</td>\n",
       "      <td>4.2300</td>\n",
       "      <td>4.5833</td>\n",
       "    </tr>\n",
       "    <tr>\n",
       "      <th>2</th>\n",
       "      <td>1960-12-30</td>\n",
       "      <td>3517.181</td>\n",
       "      <td>15.435</td>\n",
       "      <td>3.8733</td>\n",
       "      <td>4.4867</td>\n",
       "    </tr>\n",
       "    <tr>\n",
       "      <th>3</th>\n",
       "      <td>1961-03-30</td>\n",
       "      <td>3498.246</td>\n",
       "      <td>15.515</td>\n",
       "      <td>2.9933</td>\n",
       "      <td>4.2600</td>\n",
       "    </tr>\n",
       "    <tr>\n",
       "      <th>4</th>\n",
       "      <td>1961-06-30</td>\n",
       "      <td>3515.385</td>\n",
       "      <td>15.574</td>\n",
       "      <td>2.3600</td>\n",
       "      <td>3.8333</td>\n",
       "    </tr>\n",
       "  </tbody>\n",
       "</table>\n",
       "</div>"
      ],
      "text/plain": [
       "        Time     GDPC1  PCECTPI   TB3MS    GS10\n",
       "0 1960-06-30  3430.057   15.331  3.5400  4.5033\n",
       "1 1960-09-30  3439.832   15.415  4.2300  4.5833\n",
       "2 1960-12-30  3517.181   15.435  3.8733  4.4867\n",
       "3 1961-03-30  3498.246   15.515  2.9933  4.2600\n",
       "4 1961-06-30  3515.385   15.574  2.3600  3.8333"
      ]
     },
     "execution_count": 4,
     "metadata": {},
     "output_type": "execute_result"
    }
   ],
   "source": [
    "df.head()"
   ]
  },
  {
   "cell_type": "markdown",
   "metadata": {},
   "source": [
    "Create $\\log(GDPC1)$ and $\\Delta \\log(GDPC1)$"
   ]
  },
  {
   "cell_type": "code",
   "execution_count": 5,
   "metadata": {},
   "outputs": [],
   "source": [
    "df['log_GDP'] = np.log(df['GDPC1'])\n",
    "df['delta_log_GDP'] = (df['log_GDP'] - df['log_GDP'].shift(1))\n",
    "\n",
    "df['delta_log_GDP'].fillna(0, inplace=True)"
   ]
  },
  {
   "cell_type": "markdown",
   "metadata": {},
   "source": [
    "Create $\\pi$ and $\\log(PCECTPI)$"
   ]
  },
  {
   "cell_type": "code",
   "execution_count": 6,
   "metadata": {},
   "outputs": [],
   "source": [
    "df['infl'] = (np.log(df['PCECTPI']) - (np.log(df['PCECTPI'])).shift(1))\n",
    "df['infl'].fillna(0, inplace=True)\n",
    "\n",
    "df['log_PCECTPI'] = np.log(df['PCECTPI'])"
   ]
  },
  {
   "cell_type": "code",
   "execution_count": 7,
   "metadata": {},
   "outputs": [
    {
     "data": {
      "text/html": [
       "<div>\n",
       "<style scoped>\n",
       "    .dataframe tbody tr th:only-of-type {\n",
       "        vertical-align: middle;\n",
       "    }\n",
       "\n",
       "    .dataframe tbody tr th {\n",
       "        vertical-align: top;\n",
       "    }\n",
       "\n",
       "    .dataframe thead th {\n",
       "        text-align: right;\n",
       "    }\n",
       "</style>\n",
       "<table border=\"1\" class=\"dataframe\">\n",
       "  <thead>\n",
       "    <tr style=\"text-align: right;\">\n",
       "      <th></th>\n",
       "      <th>Time</th>\n",
       "      <th>GDPC1</th>\n",
       "      <th>PCECTPI</th>\n",
       "      <th>TB3MS</th>\n",
       "      <th>GS10</th>\n",
       "      <th>log_GDP</th>\n",
       "      <th>delta_log_GDP</th>\n",
       "      <th>infl</th>\n",
       "      <th>log_PCECTPI</th>\n",
       "    </tr>\n",
       "  </thead>\n",
       "  <tbody>\n",
       "    <tr>\n",
       "      <th>0</th>\n",
       "      <td>1960-06-30</td>\n",
       "      <td>3430.057</td>\n",
       "      <td>15.331</td>\n",
       "      <td>3.5400</td>\n",
       "      <td>4.5033</td>\n",
       "      <td>8.140332</td>\n",
       "      <td>0.000000</td>\n",
       "      <td>0.000000</td>\n",
       "      <td>2.729877</td>\n",
       "    </tr>\n",
       "    <tr>\n",
       "      <th>1</th>\n",
       "      <td>1960-09-30</td>\n",
       "      <td>3439.832</td>\n",
       "      <td>15.415</td>\n",
       "      <td>4.2300</td>\n",
       "      <td>4.5833</td>\n",
       "      <td>8.143178</td>\n",
       "      <td>0.002846</td>\n",
       "      <td>0.005464</td>\n",
       "      <td>2.735341</td>\n",
       "    </tr>\n",
       "    <tr>\n",
       "      <th>2</th>\n",
       "      <td>1960-12-30</td>\n",
       "      <td>3517.181</td>\n",
       "      <td>15.435</td>\n",
       "      <td>3.8733</td>\n",
       "      <td>4.4867</td>\n",
       "      <td>8.165415</td>\n",
       "      <td>0.022237</td>\n",
       "      <td>0.001297</td>\n",
       "      <td>2.736638</td>\n",
       "    </tr>\n",
       "    <tr>\n",
       "      <th>3</th>\n",
       "      <td>1961-03-30</td>\n",
       "      <td>3498.246</td>\n",
       "      <td>15.515</td>\n",
       "      <td>2.9933</td>\n",
       "      <td>4.2600</td>\n",
       "      <td>8.160017</td>\n",
       "      <td>-0.005398</td>\n",
       "      <td>0.005170</td>\n",
       "      <td>2.741807</td>\n",
       "    </tr>\n",
       "    <tr>\n",
       "      <th>4</th>\n",
       "      <td>1961-06-30</td>\n",
       "      <td>3515.385</td>\n",
       "      <td>15.574</td>\n",
       "      <td>2.3600</td>\n",
       "      <td>3.8333</td>\n",
       "      <td>8.164904</td>\n",
       "      <td>0.004887</td>\n",
       "      <td>0.003796</td>\n",
       "      <td>2.745603</td>\n",
       "    </tr>\n",
       "  </tbody>\n",
       "</table>\n",
       "</div>"
      ],
      "text/plain": [
       "        Time     GDPC1  PCECTPI   TB3MS    GS10   log_GDP  delta_log_GDP  \\\n",
       "0 1960-06-30  3430.057   15.331  3.5400  4.5033  8.140332       0.000000   \n",
       "1 1960-09-30  3439.832   15.415  4.2300  4.5833  8.143178       0.002846   \n",
       "2 1960-12-30  3517.181   15.435  3.8733  4.4867  8.165415       0.022237   \n",
       "3 1961-03-30  3498.246   15.515  2.9933  4.2600  8.160017      -0.005398   \n",
       "4 1961-06-30  3515.385   15.574  2.3600  3.8333  8.164904       0.004887   \n",
       "\n",
       "       infl  log_PCECTPI  \n",
       "0  0.000000     2.729877  \n",
       "1  0.005464     2.735341  \n",
       "2  0.001297     2.736638  \n",
       "3  0.005170     2.741807  \n",
       "4  0.003796     2.745603  "
      ]
     },
     "execution_count": 7,
     "metadata": {},
     "output_type": "execute_result"
    }
   ],
   "source": [
    "df.head()"
   ]
  },
  {
   "cell_type": "markdown",
   "metadata": {},
   "source": [
    "Create $TSpread$"
   ]
  },
  {
   "cell_type": "code",
   "execution_count": 8,
   "metadata": {},
   "outputs": [],
   "source": [
    "df['tspread'] = df['GS10'] - df['TB3MS']"
   ]
  },
  {
   "cell_type": "markdown",
   "metadata": {},
   "source": [
    "### **Calculate Principal Component**"
   ]
  },
  {
   "cell_type": "markdown",
   "metadata": {},
   "source": [
    "Create `stand_factors` as a data frame containing 245 columns, namely all the columns of factors_df except the _Time_, but standardized ($\\mu =0$, $\\sigma=1$).\n",
    "\n",
    "`factors_df` doesn't change."
   ]
  },
  {
   "cell_type": "code",
   "execution_count": 9,
   "metadata": {},
   "outputs": [],
   "source": [
    "stand_factors = factors_df.iloc[:, 1:].apply(stats.zscore, axis=0)"
   ]
  },
  {
   "cell_type": "code",
   "execution_count": 10,
   "metadata": {},
   "outputs": [
    {
     "data": {
      "text/html": [
       "<div>\n",
       "<style scoped>\n",
       "    .dataframe tbody tr th:only-of-type {\n",
       "        vertical-align: middle;\n",
       "    }\n",
       "\n",
       "    .dataframe tbody tr th {\n",
       "        vertical-align: top;\n",
       "    }\n",
       "\n",
       "    .dataframe thead th {\n",
       "        text-align: right;\n",
       "    }\n",
       "</style>\n",
       "<table border=\"1\" class=\"dataframe\">\n",
       "  <thead>\n",
       "    <tr style=\"text-align: right;\">\n",
       "      <th></th>\n",
       "      <th>PCECC96</th>\n",
       "      <th>PCDGx</th>\n",
       "      <th>PCESVx</th>\n",
       "      <th>PCNDx</th>\n",
       "      <th>GPDIC1</th>\n",
       "      <th>FPIx</th>\n",
       "      <th>Y033RC1Q027SBEAx</th>\n",
       "      <th>PNFIx</th>\n",
       "      <th>PRFIx</th>\n",
       "      <th>A014RE1Q156NBEA</th>\n",
       "      <th>...</th>\n",
       "      <th>TLBSNNBx</th>\n",
       "      <th>TLBSNNBBDIx</th>\n",
       "      <th>TABSNNBx</th>\n",
       "      <th>TNWBSNNBx</th>\n",
       "      <th>TNWBSNNBBDIx</th>\n",
       "      <th>CNCFx</th>\n",
       "      <th>S&amp;P 500</th>\n",
       "      <th>S&amp;P: indust</th>\n",
       "      <th>S&amp;P div yield</th>\n",
       "      <th>S&amp;P PE ratio</th>\n",
       "    </tr>\n",
       "  </thead>\n",
       "  <tbody>\n",
       "    <tr>\n",
       "      <th>0</th>\n",
       "      <td>0.345487</td>\n",
       "      <td>0.198582</td>\n",
       "      <td>1.001568</td>\n",
       "      <td>-0.275298</td>\n",
       "      <td>-1.826943</td>\n",
       "      <td>0.057890</td>\n",
       "      <td>0.639820</td>\n",
       "      <td>0.732729</td>\n",
       "      <td>-0.498651</td>\n",
       "      <td>-0.640085</td>\n",
       "      <td>...</td>\n",
       "      <td>0.977503</td>\n",
       "      <td>-0.506133</td>\n",
       "      <td>-0.828227</td>\n",
       "      <td>-0.771472</td>\n",
       "      <td>-0.749628</td>\n",
       "      <td>0.172105</td>\n",
       "      <td>0.074484</td>\n",
       "      <td>0.099485</td>\n",
       "      <td>-0.115484</td>\n",
       "      <td>-0.174575</td>\n",
       "    </tr>\n",
       "    <tr>\n",
       "      <th>1</th>\n",
       "      <td>-0.950126</td>\n",
       "      <td>-2.016541</td>\n",
       "      <td>0.743634</td>\n",
       "      <td>-0.003276</td>\n",
       "      <td>0.545897</td>\n",
       "      <td>-0.965475</td>\n",
       "      <td>-0.488568</td>\n",
       "      <td>-0.684404</td>\n",
       "      <td>-0.716405</td>\n",
       "      <td>0.536824</td>\n",
       "      <td>...</td>\n",
       "      <td>-2.142299</td>\n",
       "      <td>-0.851033</td>\n",
       "      <td>-1.020656</td>\n",
       "      <td>-0.485978</td>\n",
       "      <td>-1.933865</td>\n",
       "      <td>0.875186</td>\n",
       "      <td>-0.549149</td>\n",
       "      <td>-0.561475</td>\n",
       "      <td>0.440121</td>\n",
       "      <td>-0.612021</td>\n",
       "    </tr>\n",
       "    <tr>\n",
       "      <th>2</th>\n",
       "      <td>0.223639</td>\n",
       "      <td>0.605363</td>\n",
       "      <td>0.192954</td>\n",
       "      <td>-0.425468</td>\n",
       "      <td>2.077526</td>\n",
       "      <td>1.086674</td>\n",
       "      <td>0.710134</td>\n",
       "      <td>1.098489</td>\n",
       "      <td>0.589866</td>\n",
       "      <td>2.722511</td>\n",
       "      <td>...</td>\n",
       "      <td>1.900739</td>\n",
       "      <td>-0.445382</td>\n",
       "      <td>0.026075</td>\n",
       "      <td>-0.209566</td>\n",
       "      <td>1.850410</td>\n",
       "      <td>-1.008960</td>\n",
       "      <td>-0.706124</td>\n",
       "      <td>-0.779212</td>\n",
       "      <td>1.132685</td>\n",
       "      <td>-0.570060</td>\n",
       "    </tr>\n",
       "    <tr>\n",
       "      <th>3</th>\n",
       "      <td>0.645074</td>\n",
       "      <td>0.307674</td>\n",
       "      <td>0.557259</td>\n",
       "      <td>0.550779</td>\n",
       "      <td>-2.573436</td>\n",
       "      <td>-1.273241</td>\n",
       "      <td>0.132059</td>\n",
       "      <td>0.151842</td>\n",
       "      <td>-1.972480</td>\n",
       "      <td>0.200564</td>\n",
       "      <td>...</td>\n",
       "      <td>0.429553</td>\n",
       "      <td>-0.428397</td>\n",
       "      <td>-0.528344</td>\n",
       "      <td>-0.456013</td>\n",
       "      <td>-0.430267</td>\n",
       "      <td>0.102296</td>\n",
       "      <td>-0.335165</td>\n",
       "      <td>-0.399775</td>\n",
       "      <td>0.451777</td>\n",
       "      <td>-0.242132</td>\n",
       "    </tr>\n",
       "    <tr>\n",
       "      <th>4</th>\n",
       "      <td>-1.667558</td>\n",
       "      <td>-0.685054</td>\n",
       "      <td>-1.632966</td>\n",
       "      <td>-1.404069</td>\n",
       "      <td>-0.284477</td>\n",
       "      <td>-1.426275</td>\n",
       "      <td>-1.882351</td>\n",
       "      <td>-1.400137</td>\n",
       "      <td>-0.752689</td>\n",
       "      <td>0.536824</td>\n",
       "      <td>...</td>\n",
       "      <td>0.462580</td>\n",
       "      <td>-0.513322</td>\n",
       "      <td>-0.082459</td>\n",
       "      <td>-0.096851</td>\n",
       "      <td>-0.948319</td>\n",
       "      <td>0.470454</td>\n",
       "      <td>-0.377939</td>\n",
       "      <td>-0.490168</td>\n",
       "      <td>0.160376</td>\n",
       "      <td>0.013255</td>\n",
       "    </tr>\n",
       "  </tbody>\n",
       "</table>\n",
       "<p>5 rows × 245 columns</p>\n",
       "</div>"
      ],
      "text/plain": [
       "    PCECC96     PCDGx    PCESVx     PCNDx    GPDIC1      FPIx  \\\n",
       "0  0.345487  0.198582  1.001568 -0.275298 -1.826943  0.057890   \n",
       "1 -0.950126 -2.016541  0.743634 -0.003276  0.545897 -0.965475   \n",
       "2  0.223639  0.605363  0.192954 -0.425468  2.077526  1.086674   \n",
       "3  0.645074  0.307674  0.557259  0.550779 -2.573436 -1.273241   \n",
       "4 -1.667558 -0.685054 -1.632966 -1.404069 -0.284477 -1.426275   \n",
       "\n",
       "   Y033RC1Q027SBEAx     PNFIx     PRFIx  A014RE1Q156NBEA  ...  TLBSNNBx  \\\n",
       "0          0.639820  0.732729 -0.498651        -0.640085  ...  0.977503   \n",
       "1         -0.488568 -0.684404 -0.716405         0.536824  ... -2.142299   \n",
       "2          0.710134  1.098489  0.589866         2.722511  ...  1.900739   \n",
       "3          0.132059  0.151842 -1.972480         0.200564  ...  0.429553   \n",
       "4         -1.882351 -1.400137 -0.752689         0.536824  ...  0.462580   \n",
       "\n",
       "   TLBSNNBBDIx  TABSNNBx  TNWBSNNBx  TNWBSNNBBDIx     CNCFx   S&P 500  \\\n",
       "0    -0.506133 -0.828227  -0.771472     -0.749628  0.172105  0.074484   \n",
       "1    -0.851033 -1.020656  -0.485978     -1.933865  0.875186 -0.549149   \n",
       "2    -0.445382  0.026075  -0.209566      1.850410 -1.008960 -0.706124   \n",
       "3    -0.428397 -0.528344  -0.456013     -0.430267  0.102296 -0.335165   \n",
       "4    -0.513322 -0.082459  -0.096851     -0.948319  0.470454 -0.377939   \n",
       "\n",
       "   S&P: indust  S&P div yield  S&P PE ratio  \n",
       "0     0.099485      -0.115484     -0.174575  \n",
       "1    -0.561475       0.440121     -0.612021  \n",
       "2    -0.779212       1.132685     -0.570060  \n",
       "3    -0.399775       0.451777     -0.242132  \n",
       "4    -0.490168       0.160376      0.013255  \n",
       "\n",
       "[5 rows x 245 columns]"
      ]
     },
     "execution_count": 10,
     "metadata": {},
     "output_type": "execute_result"
    }
   ],
   "source": [
    "stand_factors.head()"
   ]
  },
  {
   "cell_type": "code",
   "execution_count": 11,
   "metadata": {},
   "outputs": [],
   "source": [
    "pca = PCA(n_components=1)\n",
    "\n",
    "    \n",
    "first_PC = pca.fit_transform(stand_factors)"
   ]
  },
  {
   "cell_type": "markdown",
   "metadata": {},
   "source": [
    "Da fare per ogni rolling window, 134 volte dio cane"
   ]
  },
  {
   "cell_type": "markdown",
   "metadata": {},
   "source": [
    "## Models\n",
    "\n",
    "### Random Walk"
   ]
  },
  {
   "cell_type": "markdown",
   "metadata": {},
   "source": [
    "This is just a proposal of a function that works for Random Walk and AR(4), i think it can be implemented for other models.\n",
    "Anyway it may be used as a blueprint to handle the rolling windows"
   ]
  },
  {
   "cell_type": "code",
   "execution_count": 25,
   "metadata": {},
   "outputs": [],
   "source": [
    "def forecast(p, q, d, estimated_series, exog = False): \n",
    "    \n",
    "    # q, p, d are the parameters of the ARIMA model\n",
    "    # estimated_series = a string with the name of the series we want to forecast\n",
    "    # wind_initial_origin/end = index of the first and last observation for the \n",
    "    #                           the first rolling window (0:100)\n",
    "    # wind_current_origin/end = index to be updated at each iteration\n",
    "    # forecasts = empty series to store the forecasts\n",
    "    \n",
    "\n",
    "    forecasts = pd.Series(dtype = 'float64')\n",
    "\n",
    "    wind_initial_origin = 0\n",
    "    wind_initial_end = 100 \n",
    "\n",
    "    wind_current_origin = wind_initial_origin\n",
    "    wind_current_end = wind_initial_end \n",
    "\n",
    "    for t in range(134):\n",
    "\n",
    "        current_window = df.iloc[wind_current_origin:wind_current_end] # from the original df we slice in order\n",
    "                                                                       # to select only the current window\n",
    "        if exog == False:\n",
    "            model = ARIMA(current_window[estimated_series], order = (p, q, d))\n",
    "        \n",
    "        else:\n",
    "            curr_stand_factors = stand_factors[wind_current_origin:wind_current_end]\n",
    "\n",
    "            first_PC = pca.fit_transform(curr_stand_factors)[-1]\n",
    "\n",
    "            model = SARIMAX(current_window[estimated_series], exog = first_PC, order = (p, q, d)) \n",
    "        \n",
    "        fitted_model = model.fit()\n",
    "\n",
    "        current_forecast = fitted_model.forecast(steps=1)\n",
    "\n",
    "        forecasts= pd.concat([forecasts, current_forecast])\n",
    "\n",
    "        wind_current_origin +=1\n",
    "        wind_current_end += 1\n",
    "\n",
    "\n",
    "    return forecasts"
   ]
  },
  {
   "cell_type": "markdown",
   "metadata": {},
   "source": [
    "## VAR\n",
    "### VAR(4)\n",
    "It might be easier to create a dataframe with only $\\Delta y_t$, $\\pi_t$ and *Tspread*, to pass it as an argument to VAR. "
   ]
  },
  {
   "cell_type": "markdown",
   "metadata": {},
   "source": [
    "### How to select lag order $\\textit{p}$\n",
    "Again this is just an example of how the selection of lag order\n",
    "can be implemented, we have to reproduce this every time we estimate the model. "
   ]
  },
  {
   "cell_type": "code",
   "execution_count": null,
   "metadata": {},
   "outputs": [],
   "source": [
    "model = VAR(df_differenced) \n",
    "for i in [1,2,3,4,5,6,7,8,9]:\n",
    "    result = model.fit(i)\n",
    "    print('Lag Order =', i)\n",
    "    print('AIC : ', result.aic)"
   ]
  },
  {
   "cell_type": "markdown",
   "metadata": {},
   "source": [
    "Alternative: "
   ]
  },
  {
   "cell_type": "code",
   "execution_count": null,
   "metadata": {},
   "outputs": [],
   "source": [
    "x = model.select_order()\n",
    "x.summary()"
   ]
  }
 ],
 "metadata": {
  "kernelspec": {
   "display_name": "Python 3",
   "language": "python",
   "name": "python3"
  },
  "language_info": {
   "codemirror_mode": {
    "name": "ipython",
    "version": 3
   },
   "file_extension": ".py",
   "mimetype": "text/x-python",
   "name": "python",
   "nbconvert_exporter": "python",
   "pygments_lexer": "ipython3",
   "version": "3.11.2"
  }
 },
 "nbformat": 4,
 "nbformat_minor": 2
}
