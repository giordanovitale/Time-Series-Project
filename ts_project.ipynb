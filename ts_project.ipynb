{
 "cells": [
  {
   "cell_type": "markdown",
   "metadata": {},
   "source": [
    "### 0) Import libraries"
   ]
  },
  {
   "cell_type": "code",
   "execution_count": 109,
   "metadata": {},
   "outputs": [],
   "source": [
    "import pandas as pd\n",
    "import numpy as np\n",
    "import matplotlib.pyplot as plt\n",
    "from scipy import stats\n",
    "from sklearn.decomposition import PCA\n",
    "from sklearn.metrics import mean_squared_error\n",
    "\n",
    "from statsmodels.graphics.tsaplots import plot_acf\n",
    "from statsmodels.tsa.arima.model import ARIMA\n",
    "from statsmodels.regression.rolling import RollingOLS\n",
    "from statsmodels.tsa.api import VAR\n",
    "from statsmodels.tools.eval_measures import aic\n",
    "from statsmodels.tsa.api import SARIMAX\n",
    "\n",
    "pd.set_option(\"display.precision\", 2)"
   ]
  },
  {
   "cell_type": "markdown",
   "metadata": {},
   "source": [
    "### 0) Import the file and create the two data frames"
   ]
  },
  {
   "cell_type": "code",
   "execution_count": 3,
   "metadata": {},
   "outputs": [],
   "source": [
    "xls = pd.ExcelFile('Data.xlsx')\n",
    "df = xls.parse(0)\n",
    "factors_df = xls.parse(1)"
   ]
  },
  {
   "cell_type": "code",
   "execution_count": 4,
   "metadata": {},
   "outputs": [],
   "source": [
    "df['Time'] = pd.to_datetime(df['Time'])\n",
    "factors_df['Time'] = pd.to_datetime(factors_df['Time'])"
   ]
  },
  {
   "cell_type": "markdown",
   "metadata": {},
   "source": [
    "Limit the observations until 2018:Q3"
   ]
  },
  {
   "cell_type": "code",
   "execution_count": 5,
   "metadata": {},
   "outputs": [],
   "source": [
    "df = df.iloc[0:234]"
   ]
  },
  {
   "cell_type": "code",
   "execution_count": 6,
   "metadata": {},
   "outputs": [
    {
     "data": {
      "text/html": [
       "<div>\n",
       "<style scoped>\n",
       "    .dataframe tbody tr th:only-of-type {\n",
       "        vertical-align: middle;\n",
       "    }\n",
       "\n",
       "    .dataframe tbody tr th {\n",
       "        vertical-align: top;\n",
       "    }\n",
       "\n",
       "    .dataframe thead th {\n",
       "        text-align: right;\n",
       "    }\n",
       "</style>\n",
       "<table border=\"1\" class=\"dataframe\">\n",
       "  <thead>\n",
       "    <tr style=\"text-align: right;\">\n",
       "      <th></th>\n",
       "      <th>Time</th>\n",
       "      <th>GDPC1</th>\n",
       "      <th>PCECTPI</th>\n",
       "      <th>TB3MS</th>\n",
       "      <th>GS10</th>\n",
       "    </tr>\n",
       "  </thead>\n",
       "  <tbody>\n",
       "    <tr>\n",
       "      <th>229</th>\n",
       "      <td>2017-09-30</td>\n",
       "      <td>19304.35</td>\n",
       "      <td>98.95</td>\n",
       "      <td>0.43</td>\n",
       "      <td>2.13</td>\n",
       "    </tr>\n",
       "    <tr>\n",
       "      <th>230</th>\n",
       "      <td>2017-12-30</td>\n",
       "      <td>19398.34</td>\n",
       "      <td>99.52</td>\n",
       "      <td>0.59</td>\n",
       "      <td>2.44</td>\n",
       "    </tr>\n",
       "    <tr>\n",
       "      <th>231</th>\n",
       "      <td>2018-03-30</td>\n",
       "      <td>19506.95</td>\n",
       "      <td>99.72</td>\n",
       "      <td>0.89</td>\n",
       "      <td>2.26</td>\n",
       "    </tr>\n",
       "    <tr>\n",
       "      <th>232</th>\n",
       "      <td>2018-06-30</td>\n",
       "      <td>19660.77</td>\n",
       "      <td>100.08</td>\n",
       "      <td>1.04</td>\n",
       "      <td>2.24</td>\n",
       "    </tr>\n",
       "    <tr>\n",
       "      <th>233</th>\n",
       "      <td>2018-09-30</td>\n",
       "      <td>19882.35</td>\n",
       "      <td>100.68</td>\n",
       "      <td>1.21</td>\n",
       "      <td>2.37</td>\n",
       "    </tr>\n",
       "  </tbody>\n",
       "</table>\n",
       "</div>"
      ],
      "text/plain": [
       "          Time     GDPC1  PCECTPI  TB3MS  GS10\n",
       "229 2017-09-30  19304.35    98.95   0.43  2.13\n",
       "230 2017-12-30  19398.34    99.52   0.59  2.44\n",
       "231 2018-03-30  19506.95    99.72   0.89  2.26\n",
       "232 2018-06-30  19660.77   100.08   1.04  2.24\n",
       "233 2018-09-30  19882.35   100.68   1.21  2.37"
      ]
     },
     "execution_count": 6,
     "metadata": {},
     "output_type": "execute_result"
    }
   ],
   "source": [
    "df.tail()"
   ]
  },
  {
   "cell_type": "markdown",
   "metadata": {},
   "source": [
    "Create $\\log(GDPC1)$ and $\\Delta \\log(GDPC1)$"
   ]
  },
  {
   "cell_type": "code",
   "execution_count": 7,
   "metadata": {},
   "outputs": [],
   "source": [
    "df['log_GDP'] = np.log(df['GDPC1'])\n",
    "\n",
    "df['delta_log_GDP'] = (df['log_GDP'] - df['log_GDP'].shift(1))\n",
    "df['delta_log_GDP'].fillna(0, inplace=True)"
   ]
  },
  {
   "cell_type": "markdown",
   "metadata": {},
   "source": [
    "Create $\\pi$ and $\\log(PCECTPI)$"
   ]
  },
  {
   "cell_type": "code",
   "execution_count": 8,
   "metadata": {},
   "outputs": [],
   "source": [
    "df['infl'] = (np.log(df['PCECTPI']) - (np.log(df['PCECTPI'])).shift(1))\n",
    "df['infl'].fillna(0, inplace=True)\n",
    "\n",
    "df['log_PCECTPI'] = np.log(df['PCECTPI'])"
   ]
  },
  {
   "cell_type": "markdown",
   "metadata": {},
   "source": [
    "Create $TSpread$"
   ]
  },
  {
   "cell_type": "code",
   "execution_count": 9,
   "metadata": {},
   "outputs": [],
   "source": [
    "df['tspread'] = df['GS10'] - df['TB3MS']"
   ]
  },
  {
   "cell_type": "markdown",
   "metadata": {},
   "source": [
    "### **1) Calculate Principal Component**"
   ]
  },
  {
   "cell_type": "markdown",
   "metadata": {},
   "source": [
    "Create `stand_factors` as a data frame containing 245 columns, namely all the columns of factors_df except the _Time_, but standardized ($\\mu =0$, $\\sigma=1$).\n",
    "\n",
    "`factors_df` doesn't change."
   ]
  },
  {
   "cell_type": "code",
   "execution_count": 10,
   "metadata": {},
   "outputs": [],
   "source": [
    "stand_factors = factors_df.iloc[:, 1:].apply(stats.zscore, axis=0)"
   ]
  },
  {
   "cell_type": "code",
   "execution_count": 39,
   "metadata": {},
   "outputs": [
    {
     "data": {
      "text/html": [
       "<div>\n",
       "<style scoped>\n",
       "    .dataframe tbody tr th:only-of-type {\n",
       "        vertical-align: middle;\n",
       "    }\n",
       "\n",
       "    .dataframe tbody tr th {\n",
       "        vertical-align: top;\n",
       "    }\n",
       "\n",
       "    .dataframe thead th {\n",
       "        text-align: right;\n",
       "    }\n",
       "</style>\n",
       "<table border=\"1\" class=\"dataframe\">\n",
       "  <thead>\n",
       "    <tr style=\"text-align: right;\">\n",
       "      <th></th>\n",
       "      <th>PCECC96</th>\n",
       "      <th>PCDGx</th>\n",
       "      <th>PCESVx</th>\n",
       "      <th>PCNDx</th>\n",
       "      <th>GPDIC1</th>\n",
       "      <th>FPIx</th>\n",
       "      <th>Y033RC1Q027SBEAx</th>\n",
       "      <th>PNFIx</th>\n",
       "      <th>PRFIx</th>\n",
       "      <th>A014RE1Q156NBEA</th>\n",
       "      <th>...</th>\n",
       "      <th>TLBSNNBx</th>\n",
       "      <th>TLBSNNBBDIx</th>\n",
       "      <th>TABSNNBx</th>\n",
       "      <th>TNWBSNNBx</th>\n",
       "      <th>TNWBSNNBBDIx</th>\n",
       "      <th>CNCFx</th>\n",
       "      <th>S&amp;P 500</th>\n",
       "      <th>S&amp;P: indust</th>\n",
       "      <th>S&amp;P div yield</th>\n",
       "      <th>S&amp;P PE ratio</th>\n",
       "    </tr>\n",
       "  </thead>\n",
       "  <tbody>\n",
       "    <tr>\n",
       "      <th>0</th>\n",
       "      <td>0.345487</td>\n",
       "      <td>0.198582</td>\n",
       "      <td>1.001568</td>\n",
       "      <td>-0.275298</td>\n",
       "      <td>-1.826943</td>\n",
       "      <td>0.057890</td>\n",
       "      <td>0.639820</td>\n",
       "      <td>0.732729</td>\n",
       "      <td>-0.498651</td>\n",
       "      <td>-0.640085</td>\n",
       "      <td>...</td>\n",
       "      <td>0.977503</td>\n",
       "      <td>-0.506133</td>\n",
       "      <td>-0.828227</td>\n",
       "      <td>-0.771472</td>\n",
       "      <td>-0.749628</td>\n",
       "      <td>0.172105</td>\n",
       "      <td>0.074484</td>\n",
       "      <td>0.099485</td>\n",
       "      <td>-0.115484</td>\n",
       "      <td>-0.174575</td>\n",
       "    </tr>\n",
       "    <tr>\n",
       "      <th>1</th>\n",
       "      <td>-0.950126</td>\n",
       "      <td>-2.016541</td>\n",
       "      <td>0.743634</td>\n",
       "      <td>-0.003276</td>\n",
       "      <td>0.545897</td>\n",
       "      <td>-0.965475</td>\n",
       "      <td>-0.488568</td>\n",
       "      <td>-0.684404</td>\n",
       "      <td>-0.716405</td>\n",
       "      <td>0.536824</td>\n",
       "      <td>...</td>\n",
       "      <td>-2.142299</td>\n",
       "      <td>-0.851033</td>\n",
       "      <td>-1.020656</td>\n",
       "      <td>-0.485978</td>\n",
       "      <td>-1.933865</td>\n",
       "      <td>0.875186</td>\n",
       "      <td>-0.549149</td>\n",
       "      <td>-0.561475</td>\n",
       "      <td>0.440121</td>\n",
       "      <td>-0.612021</td>\n",
       "    </tr>\n",
       "    <tr>\n",
       "      <th>2</th>\n",
       "      <td>0.223639</td>\n",
       "      <td>0.605363</td>\n",
       "      <td>0.192954</td>\n",
       "      <td>-0.425468</td>\n",
       "      <td>2.077526</td>\n",
       "      <td>1.086674</td>\n",
       "      <td>0.710134</td>\n",
       "      <td>1.098489</td>\n",
       "      <td>0.589866</td>\n",
       "      <td>2.722511</td>\n",
       "      <td>...</td>\n",
       "      <td>1.900739</td>\n",
       "      <td>-0.445382</td>\n",
       "      <td>0.026075</td>\n",
       "      <td>-0.209566</td>\n",
       "      <td>1.850410</td>\n",
       "      <td>-1.008960</td>\n",
       "      <td>-0.706124</td>\n",
       "      <td>-0.779212</td>\n",
       "      <td>1.132685</td>\n",
       "      <td>-0.570060</td>\n",
       "    </tr>\n",
       "    <tr>\n",
       "      <th>3</th>\n",
       "      <td>0.645074</td>\n",
       "      <td>0.307674</td>\n",
       "      <td>0.557259</td>\n",
       "      <td>0.550779</td>\n",
       "      <td>-2.573436</td>\n",
       "      <td>-1.273241</td>\n",
       "      <td>0.132059</td>\n",
       "      <td>0.151842</td>\n",
       "      <td>-1.972480</td>\n",
       "      <td>0.200564</td>\n",
       "      <td>...</td>\n",
       "      <td>0.429553</td>\n",
       "      <td>-0.428397</td>\n",
       "      <td>-0.528344</td>\n",
       "      <td>-0.456013</td>\n",
       "      <td>-0.430267</td>\n",
       "      <td>0.102296</td>\n",
       "      <td>-0.335165</td>\n",
       "      <td>-0.399775</td>\n",
       "      <td>0.451777</td>\n",
       "      <td>-0.242132</td>\n",
       "    </tr>\n",
       "    <tr>\n",
       "      <th>4</th>\n",
       "      <td>-1.667558</td>\n",
       "      <td>-0.685054</td>\n",
       "      <td>-1.632966</td>\n",
       "      <td>-1.404069</td>\n",
       "      <td>-0.284477</td>\n",
       "      <td>-1.426275</td>\n",
       "      <td>-1.882351</td>\n",
       "      <td>-1.400137</td>\n",
       "      <td>-0.752689</td>\n",
       "      <td>0.536824</td>\n",
       "      <td>...</td>\n",
       "      <td>0.462580</td>\n",
       "      <td>-0.513322</td>\n",
       "      <td>-0.082459</td>\n",
       "      <td>-0.096851</td>\n",
       "      <td>-0.948319</td>\n",
       "      <td>0.470454</td>\n",
       "      <td>-0.377939</td>\n",
       "      <td>-0.490168</td>\n",
       "      <td>0.160376</td>\n",
       "      <td>0.013255</td>\n",
       "    </tr>\n",
       "  </tbody>\n",
       "</table>\n",
       "<p>5 rows × 245 columns</p>\n",
       "</div>"
      ],
      "text/plain": [
       "    PCECC96     PCDGx    PCESVx     PCNDx    GPDIC1      FPIx  \\\n",
       "0  0.345487  0.198582  1.001568 -0.275298 -1.826943  0.057890   \n",
       "1 -0.950126 -2.016541  0.743634 -0.003276  0.545897 -0.965475   \n",
       "2  0.223639  0.605363  0.192954 -0.425468  2.077526  1.086674   \n",
       "3  0.645074  0.307674  0.557259  0.550779 -2.573436 -1.273241   \n",
       "4 -1.667558 -0.685054 -1.632966 -1.404069 -0.284477 -1.426275   \n",
       "\n",
       "   Y033RC1Q027SBEAx     PNFIx     PRFIx  A014RE1Q156NBEA  ...  TLBSNNBx  \\\n",
       "0          0.639820  0.732729 -0.498651        -0.640085  ...  0.977503   \n",
       "1         -0.488568 -0.684404 -0.716405         0.536824  ... -2.142299   \n",
       "2          0.710134  1.098489  0.589866         2.722511  ...  1.900739   \n",
       "3          0.132059  0.151842 -1.972480         0.200564  ...  0.429553   \n",
       "4         -1.882351 -1.400137 -0.752689         0.536824  ...  0.462580   \n",
       "\n",
       "   TLBSNNBBDIx  TABSNNBx  TNWBSNNBx  TNWBSNNBBDIx     CNCFx   S&P 500  \\\n",
       "0    -0.506133 -0.828227  -0.771472     -0.749628  0.172105  0.074484   \n",
       "1    -0.851033 -1.020656  -0.485978     -1.933865  0.875186 -0.549149   \n",
       "2    -0.445382  0.026075  -0.209566      1.850410 -1.008960 -0.706124   \n",
       "3    -0.428397 -0.528344  -0.456013     -0.430267  0.102296 -0.335165   \n",
       "4    -0.513322 -0.082459  -0.096851     -0.948319  0.470454 -0.377939   \n",
       "\n",
       "   S&P: indust  S&P div yield  S&P PE ratio  \n",
       "0     0.099485      -0.115484     -0.174575  \n",
       "1    -0.561475       0.440121     -0.612021  \n",
       "2    -0.779212       1.132685     -0.570060  \n",
       "3    -0.399775       0.451777     -0.242132  \n",
       "4    -0.490168       0.160376      0.013255  \n",
       "\n",
       "[5 rows x 245 columns]"
      ]
     },
     "execution_count": 39,
     "metadata": {},
     "output_type": "execute_result"
    }
   ],
   "source": [
    "stand_factors.head()"
   ]
  },
  {
   "cell_type": "code",
   "execution_count": 44,
   "metadata": {},
   "outputs": [],
   "source": [
    "pca = PCA(n_components=1)\n",
    "first_PC = pca.fit_transform(stand_factors)"
   ]
  },
  {
   "cell_type": "code",
   "execution_count": 46,
   "metadata": {},
   "outputs": [
    {
     "name": "stdout",
     "output_type": "stream",
     "text": [
      "[[ 3.02108812e+00]\n",
      " [ 2.92325592e+00]\n",
      " [-8.52793011e+00]\n",
      " [ 3.62260829e+00]\n",
      " [ 7.29846426e+00]\n",
      " [ 9.41167683e+00]\n",
      " [ 7.01229895e+00]\n",
      " [-2.67288308e+00]\n",
      " [-5.68001839e+00]\n",
      " [-6.76889084e+00]\n",
      " [-4.35971272e+00]\n",
      " [-2.54886889e+00]\n",
      " [-2.48368034e-01]\n",
      " [ 4.04109089e-03]\n",
      " [-1.23097625e+00]\n",
      " [-4.58855616e+00]\n",
      " [-3.16738835e+00]\n",
      " [-2.64387697e+00]\n",
      " [-4.13119795e+00]\n",
      " [-3.86464216e+00]\n",
      " [-5.15119768e+00]\n",
      " [-2.04868152e+00]\n",
      " [-8.34946852e+00]\n",
      " [-6.36369512e+00]\n",
      " [-5.31477472e+00]\n",
      " [-8.73152190e+00]\n",
      " [-7.72646980e+00]\n",
      " [-3.75191672e+00]\n",
      " [-1.18366162e+00]\n",
      " [ 1.08004193e-01]\n",
      " [ 3.72154606e+00]\n",
      " [-1.35188909e-01]\n",
      " [-3.53944237e+00]\n",
      " [-4.77471666e+00]\n",
      " [-4.21830346e+00]\n",
      " [-4.36782634e+00]\n",
      " [-3.53304997e+00]\n",
      " [-4.87094160e+00]\n",
      " [-3.82768866e+00]\n",
      " [-3.04912078e+00]\n",
      " [-2.26151327e-01]\n",
      " [ 1.75436352e+00]\n",
      " [ 7.38645341e+00]\n",
      " [ 6.24132989e+00]\n",
      " [ 4.55693429e+00]\n",
      " [ 7.95051624e+00]\n",
      " [-2.53504797e+00]\n",
      " [-2.23337635e+00]\n",
      " [-4.71501660e-01]\n",
      " [-1.19473479e+00]\n",
      " [-8.92534497e+00]\n",
      " [-4.52960844e+00]\n",
      " [-4.64179900e+00]\n",
      " [-9.25057982e+00]\n",
      " [-1.00131883e+01]\n",
      " [-3.78128682e+00]\n",
      " [-7.67924002e-01]\n",
      " [-1.40766959e+00]\n",
      " [ 2.41736591e+00]\n",
      " [ 1.34874679e-01]\n",
      " [ 4.71096764e+00]\n",
      " [ 1.68998324e+01]\n",
      " [ 2.47202353e+01]\n",
      " [ 6.72491397e+00]\n",
      " [-7.85960467e+00]\n",
      " [-3.75291305e+00]\n",
      " [-7.36711813e+00]\n",
      " [-2.58878584e+00]\n",
      " [-2.82175176e+00]\n",
      " [-2.17030523e+00]\n",
      " [-5.98370280e+00]\n",
      " [-7.96223109e+00]\n",
      " [-3.77829777e+00]\n",
      " [-4.84782382e+00]\n",
      " [-2.18349405e+00]\n",
      " [-1.48997804e+01]\n",
      " [-2.96604714e+00]\n",
      " [-5.90758719e+00]\n",
      " [-1.19480587e+00]\n",
      " [-2.10216186e+00]\n",
      " [ 1.54864486e-02]\n",
      " [ 1.12976567e-01]\n",
      " [ 9.36887664e-01]\n",
      " [ 2.15851136e+01]\n",
      " [ 4.43656633e+00]\n",
      " [-8.78208435e+00]\n",
      " [-1.39416765e-01]\n",
      " [ 3.66901287e+00]\n",
      " [ 3.06860855e+00]\n",
      " [ 1.40897088e+01]\n",
      " [ 1.19028132e+01]\n",
      " [ 6.54448922e+00]\n",
      " [ 8.70355512e+00]\n",
      " [ 1.08934011e+01]\n",
      " [-1.07370156e+00]\n",
      " [-7.19551595e+00]\n",
      " [-9.74897888e+00]\n",
      " [-7.84448898e+00]\n",
      " [-9.58851932e+00]\n",
      " [-5.48966717e+00]\n",
      " [-7.27290502e-01]\n",
      " [-2.06562557e-01]\n",
      " [-1.89736558e+00]\n",
      " [ 3.52234022e-01]\n",
      " [ 2.78074666e-01]\n",
      " [-1.82688732e+00]\n",
      " [ 1.41325385e+00]\n",
      " [ 4.13958625e+00]\n",
      " [-1.44210069e+00]\n",
      " [-1.11593128e+00]\n",
      " [-2.15644294e+00]\n",
      " [-4.51300362e+00]\n",
      " [-3.32064655e+00]\n",
      " [-2.18026753e+00]\n",
      " [-2.30506797e-01]\n",
      " [-4.57847056e+00]\n",
      " [-4.26005650e-01]\n",
      " [-2.87858401e+00]\n",
      " [-2.94565116e+00]\n",
      " [ 1.11445243e+00]\n",
      " [ 4.46007728e+00]\n",
      " [ 1.29310535e+00]\n",
      " [-2.46348083e+00]\n",
      " [ 5.35106522e+00]\n",
      " [ 3.42134108e+00]\n",
      " [ 9.38595897e+00]\n",
      " [ 1.24444680e+01]\n",
      " [ 4.27848668e+00]\n",
      " [ 6.50872918e-01]\n",
      " [ 4.05130745e+00]\n",
      " [ 3.45445757e+00]\n",
      " [-9.77511690e-01]\n",
      " [ 1.70843279e+00]\n",
      " [-1.14688143e+00]\n",
      " [-1.15084435e+00]\n",
      " [-3.58496511e-01]\n",
      " [-4.14595471e-01]\n",
      " [-4.46792456e+00]\n",
      " [-3.29360321e+00]\n",
      " [-6.55501143e+00]\n",
      " [-4.11730411e+00]\n",
      " [-5.18774024e+00]\n",
      " [-2.19321471e+00]\n",
      " [ 2.16060005e+00]\n",
      " [-5.85239268e-01]\n",
      " [-7.92280858e-01]\n",
      " [-3.89503175e-01]\n",
      " [-4.51623884e+00]\n",
      " [-1.97295144e+00]\n",
      " [-2.69913678e+00]\n",
      " [-2.33807969e+00]\n",
      " [-2.55481780e+00]\n",
      " [-4.27217724e+00]\n",
      " [-3.49707638e+00]\n",
      " [-4.13289770e-01]\n",
      " [-1.96158544e+00]\n",
      " [ 1.35141997e-01]\n",
      " [-2.43237394e+00]\n",
      " [-1.51176080e+00]\n",
      " [-3.70298392e+00]\n",
      " [-2.43974625e+00]\n",
      " [-3.60308121e+00]\n",
      " [-2.01883508e+00]\n",
      " [-1.62214975e+00]\n",
      " [ 1.53999010e+00]\n",
      " [ 2.35941128e+00]\n",
      " [ 6.91618669e+00]\n",
      " [ 7.84605384e+00]\n",
      " [ 9.93828901e+00]\n",
      " [ 9.22452798e+00]\n",
      " [ 1.94023098e+00]\n",
      " [-5.68387762e-02]\n",
      " [ 3.25226802e+00]\n",
      " [ 3.56102807e+00]\n",
      " [ 1.76654267e+00]\n",
      " [ 6.05738830e+00]\n",
      " [-2.05996611e+00]\n",
      " [-1.66384677e+00]\n",
      " [-1.98365895e+00]\n",
      " [-1.80108697e+00]\n",
      " [-4.53758582e-01]\n",
      " [-3.53730860e+00]\n",
      " [-1.29180849e+00]\n",
      " [-1.93342659e+00]\n",
      " [-2.37244851e+00]\n",
      " [-1.62123165e+00]\n",
      " [-1.28735163e+00]\n",
      " [-7.86935803e-01]\n",
      " [ 2.18846979e+00]\n",
      " [ 3.23139237e+00]\n",
      " [-1.50764531e+00]\n",
      " [ 6.54332258e-02]\n",
      " [ 4.31888187e+00]\n",
      " [ 2.42920627e+00]\n",
      " [ 8.00709421e+00]\n",
      " [ 7.24282179e+00]\n",
      " [ 1.46019803e+01]\n",
      " [ 3.42473589e+01]\n",
      " [ 2.38014672e+01]\n",
      " [ 1.27501437e+01]\n",
      " [ 1.60591626e+00]\n",
      " [ 2.56804813e+00]\n",
      " [ 4.53648336e-01]\n",
      " [-1.39855396e+00]\n",
      " [ 6.17481426e-01]\n",
      " [-4.69364494e-01]\n",
      " [-1.46173059e+00]\n",
      " [ 3.53947589e-01]\n",
      " [ 2.27843463e+00]\n",
      " [-7.54612150e-01]\n",
      " [-2.22027322e+00]\n",
      " [ 2.49387718e+00]\n",
      " [ 9.91836480e-01]\n",
      " [-2.32336373e-01]\n",
      " [-1.58525408e+00]\n",
      " [ 1.04142605e+00]\n",
      " [-2.32354512e+00]\n",
      " [-1.31495923e+00]\n",
      " [ 1.15277525e+00]\n",
      " [-3.46775174e+00]\n",
      " [-5.16892423e-01]\n",
      " [ 1.33687165e+00]\n",
      " [ 3.22765837e+00]\n",
      " [-3.44296314e+00]\n",
      " [ 1.56820927e+00]\n",
      " [ 3.57996817e+00]\n",
      " [ 1.91670433e+00]\n",
      " [-1.29794165e+00]\n",
      " [ 1.19316817e+00]\n",
      " [ 1.47696972e-01]\n",
      " [-2.83362531e-01]\n",
      " [ 1.14870997e-01]\n",
      " [ 8.97564406e-01]\n",
      " [-3.51467225e+00]\n",
      " [-8.26608167e-01]\n",
      " [-5.37481355e-01]\n",
      " [ 1.01028840e+00]\n",
      " [ 2.42671981e+00]\n",
      " [ 3.77926354e+00]\n",
      " [-3.65905713e-01]\n",
      " [ 2.56127067e+00]\n",
      " [ 2.63131699e+00]\n",
      " [ 1.01719972e+01]\n",
      " [ 5.86243118e+01]\n",
      " [-4.08121091e+01]\n",
      " [-9.07666218e+00]\n",
      " [-6.18093521e+00]\n",
      " [-9.34803196e+00]\n",
      " [-5.42184871e+00]\n",
      " [-7.90005235e+00]\n",
      " [-5.32604804e+00]\n",
      " [-2.11437428e+00]\n",
      " [ 4.31813439e+00]\n",
      " [ 3.22330849e+00]]\n"
     ]
    }
   ],
   "source": [
    "print(first_PC)"
   ]
  },
  {
   "cell_type": "markdown",
   "metadata": {},
   "source": [
    "Da fare per ogni rolling window, 134 volte dio cane"
   ]
  },
  {
   "cell_type": "code",
   "execution_count": 108,
   "metadata": {},
   "outputs": [
    {
     "data": {
      "text/html": [
       "<div>\n",
       "<style scoped>\n",
       "    .dataframe tbody tr th:only-of-type {\n",
       "        vertical-align: middle;\n",
       "    }\n",
       "\n",
       "    .dataframe tbody tr th {\n",
       "        vertical-align: top;\n",
       "    }\n",
       "\n",
       "    .dataframe thead th {\n",
       "        text-align: right;\n",
       "    }\n",
       "</style>\n",
       "<table border=\"1\" class=\"dataframe\">\n",
       "  <thead>\n",
       "    <tr style=\"text-align: right;\">\n",
       "      <th></th>\n",
       "      <th>Time</th>\n",
       "      <th>GDPC1</th>\n",
       "      <th>PCECTPI</th>\n",
       "      <th>TB3MS</th>\n",
       "      <th>GS10</th>\n",
       "      <th>log_GDP</th>\n",
       "      <th>delta_log_GDP</th>\n",
       "      <th>infl</th>\n",
       "      <th>log_PCECTPI</th>\n",
       "      <th>tspread</th>\n",
       "    </tr>\n",
       "  </thead>\n",
       "  <tbody>\n",
       "    <tr>\n",
       "      <th>0</th>\n",
       "      <td>1960-06-30</td>\n",
       "      <td>3430.06</td>\n",
       "      <td>15.33</td>\n",
       "      <td>3.54</td>\n",
       "      <td>4.50</td>\n",
       "      <td>8.14</td>\n",
       "      <td>0.00e+00</td>\n",
       "      <td>0.00e+00</td>\n",
       "      <td>2.73</td>\n",
       "      <td>0.96</td>\n",
       "    </tr>\n",
       "    <tr>\n",
       "      <th>1</th>\n",
       "      <td>1960-09-30</td>\n",
       "      <td>3439.83</td>\n",
       "      <td>15.41</td>\n",
       "      <td>4.23</td>\n",
       "      <td>4.58</td>\n",
       "      <td>8.14</td>\n",
       "      <td>2.85e-03</td>\n",
       "      <td>5.46e-03</td>\n",
       "      <td>2.74</td>\n",
       "      <td>0.35</td>\n",
       "    </tr>\n",
       "    <tr>\n",
       "      <th>2</th>\n",
       "      <td>1960-12-30</td>\n",
       "      <td>3517.18</td>\n",
       "      <td>15.44</td>\n",
       "      <td>3.87</td>\n",
       "      <td>4.49</td>\n",
       "      <td>8.17</td>\n",
       "      <td>2.22e-02</td>\n",
       "      <td>1.30e-03</td>\n",
       "      <td>2.74</td>\n",
       "      <td>0.61</td>\n",
       "    </tr>\n",
       "    <tr>\n",
       "      <th>3</th>\n",
       "      <td>1961-03-30</td>\n",
       "      <td>3498.25</td>\n",
       "      <td>15.52</td>\n",
       "      <td>2.99</td>\n",
       "      <td>4.26</td>\n",
       "      <td>8.16</td>\n",
       "      <td>-5.40e-03</td>\n",
       "      <td>5.17e-03</td>\n",
       "      <td>2.74</td>\n",
       "      <td>1.27</td>\n",
       "    </tr>\n",
       "    <tr>\n",
       "      <th>4</th>\n",
       "      <td>1961-06-30</td>\n",
       "      <td>3515.39</td>\n",
       "      <td>15.57</td>\n",
       "      <td>2.36</td>\n",
       "      <td>3.83</td>\n",
       "      <td>8.16</td>\n",
       "      <td>4.89e-03</td>\n",
       "      <td>3.80e-03</td>\n",
       "      <td>2.75</td>\n",
       "      <td>1.47</td>\n",
       "    </tr>\n",
       "  </tbody>\n",
       "</table>\n",
       "</div>"
      ],
      "text/plain": [
       "        Time    GDPC1  PCECTPI  TB3MS  GS10  log_GDP  delta_log_GDP      infl  \\\n",
       "0 1960-06-30  3430.06    15.33   3.54  4.50     8.14       0.00e+00  0.00e+00   \n",
       "1 1960-09-30  3439.83    15.41   4.23  4.58     8.14       2.85e-03  5.46e-03   \n",
       "2 1960-12-30  3517.18    15.44   3.87  4.49     8.17       2.22e-02  1.30e-03   \n",
       "3 1961-03-30  3498.25    15.52   2.99  4.26     8.16      -5.40e-03  5.17e-03   \n",
       "4 1961-06-30  3515.39    15.57   2.36  3.83     8.16       4.89e-03  3.80e-03   \n",
       "\n",
       "   log_PCECTPI  tspread  \n",
       "0         2.73     0.96  \n",
       "1         2.74     0.35  \n",
       "2         2.74     0.61  \n",
       "3         2.74     1.27  \n",
       "4         2.75     1.47  "
      ]
     },
     "execution_count": 108,
     "metadata": {},
     "output_type": "execute_result"
    }
   ],
   "source": [
    "df.head()"
   ]
  },
  {
   "cell_type": "markdown",
   "metadata": {},
   "source": [
    "## **Model 1: Random Walk**"
   ]
  },
  {
   "cell_type": "markdown",
   "metadata": {},
   "source": [
    "Since the prediction for the next period is the last observed value, all we have to do is to shift(1) the series, and then consider only the prediction starting from 1985:Q2."
   ]
  },
  {
   "cell_type": "code",
   "execution_count": 171,
   "metadata": {},
   "outputs": [
    {
     "name": "stdout",
     "output_type": "stream",
     "text": [
      "119.44\n"
     ]
    }
   ],
   "source": [
    "rw_predictions = df['log_GDP'].shift(1)\n",
    "\n",
    "# bring it into real terms\n",
    "exp_rw_predictions = np.exp(rw_predictions)\n",
    "\n",
    "# consider only from 1985:Q3\n",
    "exp_rw_predictions = exp_rw_predictions[100:]\n",
    "\n",
    "# compute RMSE for RW\n",
    "rmse_rw = mean_squared_error(df['GDPC1'].iloc[100:], exp_rw_predictions, squared=False).round(2)\n",
    "print(rmse_rw)"
   ]
  },
  {
   "cell_type": "code",
   "execution_count": 172,
   "metadata": {},
   "outputs": [
    {
     "data": {
      "image/png": "[encoded data removed]",
      "text/plain": [
       "<Figure size 640x480 with 1 Axes>"
      ]
     },
     "metadata": {},
     "output_type": "display_data"
    }
   ],
   "source": [
    "plt.plot(df['Time'], df['GDPC1'], label='True Values')\n",
    "plt.plot(df['Time'].iloc[100:], exp_rw_predictions, label='Predictions')\n",
    "plt.legend()\n",
    "plt.grid()\n",
    "plt.xlabel('Time')\n",
    "plt.title('Real GDP Per Capita vs. RW Predictions')\n",
    "plt.show()"
   ]
  },
  {
   "cell_type": "markdown",
   "metadata": {},
   "source": [
    "### **Model 2: AR(4)**"
   ]
  },
  {
   "cell_type": "code",
   "execution_count": 132,
   "metadata": {},
   "outputs": [
    {
     "name": "stderr",
     "output_type": "stream",
     "text": [
      "c:\\Users\\tifos\\AppData\\Local\\Programs\\Python\\Python311\\Lib\\site-packages\\statsmodels\\base\\model.py:607: ConvergenceWarning: Maximum Likelihood optimization failed to converge. Check mle_retvals\n",
      "  warnings.warn(\"Maximum Likelihood optimization failed to \"\n",
      "c:\\Users\\tifos\\AppData\\Local\\Programs\\Python\\Python311\\Lib\\site-packages\\statsmodels\\base\\model.py:607: ConvergenceWarning: Maximum Likelihood optimization failed to converge. Check mle_retvals\n",
      "  warnings.warn(\"Maximum Likelihood optimization failed to \"\n",
      "c:\\Users\\tifos\\AppData\\Local\\Programs\\Python\\Python311\\Lib\\site-packages\\statsmodels\\base\\model.py:607: ConvergenceWarning: Maximum Likelihood optimization failed to converge. Check mle_retvals\n",
      "  warnings.warn(\"Maximum Likelihood optimization failed to \"\n",
      "c:\\Users\\tifos\\AppData\\Local\\Programs\\Python\\Python311\\Lib\\site-packages\\statsmodels\\base\\model.py:607: ConvergenceWarning: Maximum Likelihood optimization failed to converge. Check mle_retvals\n",
      "  warnings.warn(\"Maximum Likelihood optimization failed to \"\n",
      "c:\\Users\\tifos\\AppData\\Local\\Programs\\Python\\Python311\\Lib\\site-packages\\statsmodels\\base\\model.py:607: ConvergenceWarning: Maximum Likelihood optimization failed to converge. Check mle_retvals\n",
      "  warnings.warn(\"Maximum Likelihood optimization failed to \"\n",
      "c:\\Users\\tifos\\AppData\\Local\\Programs\\Python\\Python311\\Lib\\site-packages\\statsmodels\\base\\model.py:607: ConvergenceWarning: Maximum Likelihood optimization failed to converge. Check mle_retvals\n",
      "  warnings.warn(\"Maximum Likelihood optimization failed to \"\n",
      "c:\\Users\\tifos\\AppData\\Local\\Programs\\Python\\Python311\\Lib\\site-packages\\statsmodels\\base\\model.py:607: ConvergenceWarning: Maximum Likelihood optimization failed to converge. Check mle_retvals\n",
      "  warnings.warn(\"Maximum Likelihood optimization failed to \"\n",
      "c:\\Users\\tifos\\AppData\\Local\\Programs\\Python\\Python311\\Lib\\site-packages\\statsmodels\\base\\model.py:607: ConvergenceWarning: Maximum Likelihood optimization failed to converge. Check mle_retvals\n",
      "  warnings.warn(\"Maximum Likelihood optimization failed to \"\n",
      "c:\\Users\\tifos\\AppData\\Local\\Programs\\Python\\Python311\\Lib\\site-packages\\statsmodels\\base\\model.py:607: ConvergenceWarning: Maximum Likelihood optimization failed to converge. Check mle_retvals\n",
      "  warnings.warn(\"Maximum Likelihood optimization failed to \"\n"
     ]
    }
   ],
   "source": [
    "ar_4_forecasts = []\n",
    "\n",
    "window_size = 100\n",
    "\n",
    "t = 0\n",
    "\n",
    "for i in range(1, 135):\n",
    "\n",
    "    # determine the training data at each step\n",
    "    current_window = df.iloc[t:t+window_size]\n",
    "\n",
    "    # create the model and fit it\n",
    "    ar_4_model = ARIMA(current_window['delta_log_GDP'], order=(4,0,0)) \n",
    "    ar_4_results = ar_4_model.fit()\n",
    "\n",
    "    # forecast the next observation\n",
    "    ar_4_forecast = ar_4_results.forecast(steps=1)\n",
    "\n",
    "    # append the forecasted value to the list\n",
    "    ar_4_forecasts.append(ar_4_forecast.iloc[0])\n",
    "\n",
    "    # roll the window\n",
    "    t += 1\n",
    "\n",
    "\n",
    "# compute the values of the forecasts back to their real scale\n",
    "# exp_ar_4_forecasts = np.exp(ar_4_forecasts)"
   ]
  },
  {
   "cell_type": "code",
   "execution_count": 195,
   "metadata": {},
   "outputs": [
    {
     "data": {
      "text/plain": [
       "<matplotlib.legend.Legend at 0x1f7a0b43490>"
      ]
     },
     "execution_count": 195,
     "metadata": {},
     "output_type": "execute_result"
    },
    {
     "data": {
      "image/png": "[encoded data removed]",
      "text/plain": [
       "<Figure size 640x480 with 1 Axes>"
      ]
     },
     "metadata": {},
     "output_type": "display_data"
    }
   ],
   "source": [
    "plt.plot(df['Time'], df['delta_log_GDP'], label='True Change')\n",
    "plt.plot(df['Time'].iloc[100:], ar_4_forecasts, label='AR(4) prediction for the change')\n",
    "plt.title('True Change vs. AR(4) predictions')\n",
    "plt.xlabel('Time')\n",
    "plt.grid()\n",
    "plt.xlim()\n",
    "plt.axvline(x=pd.to_datetime('1985-06-30'), color='red', linestyle='--', label='1985:Q2')\n",
    "plt.legend()"
   ]
  },
  {
   "cell_type": "code",
   "execution_count": 196,
   "metadata": {},
   "outputs": [
    {
     "name": "stdout",
     "output_type": "stream",
     "text": [
      "0.01\n"
     ]
    }
   ],
   "source": [
    "# compute RMSE for RW\n",
    "rmse_ar4 = mean_squared_error(df['delta_log_GDP'].iloc[100:], ar_4_forecasts, squared=False).round(2)\n",
    "print(rmse_ar4)"
   ]
  },
  {
   "cell_type": "markdown",
   "metadata": {},
   "source": [
    "### **Model: VAR(4)**\n",
    "For the model VAR(4) we have to forecast $\\Delta y_t$, $\\pi_t$ and $Tspread_t$. In order to do I will create a new df containing only these 3 series, making it easier to pass them as an argument to the function. "
   ]
  },
  {
   "cell_type": "code",
   "execution_count": 14,
   "metadata": {},
   "outputs": [],
   "source": [
    "df_var = df[['Time', 'delta_log_GDP', 'infl', 'tspread']]"
   ]
  },
  {
   "cell_type": "code",
   "execution_count": 18,
   "metadata": {},
   "outputs": [],
   "source": [
    "df_var = df_var.set_index('Time')"
   ]
  },
  {
   "cell_type": "code",
   "execution_count": null,
   "metadata": {},
   "outputs": [],
   "source": [
    "var_4_forecasts = pd.DataFrame(columns=['delta_log_GDP', 'infl', 'tspread'])\n",
    "\n",
    "window_size = 100\n",
    "\n",
    "t = 0\n",
    "\n",
    "for i in range(1, 135):\n",
    "\n",
    "    # determine the training data at each step\n",
    "    current_window = df_var.iloc[t:t+window_size]\n",
    "\n",
    "    # create the model and fit it\n",
    "    var_4_model = VAR(current_window) \n",
    "    var_4_results = var_4_model.fit(4)\n",
    "\n",
    "    # forecast the next observation\n",
    "    var_4_forecast = var_4_results.forecast(y = current_window.values[-4:], steps = 1)[0]\n",
    "    temp_df = pd.DataFrame({'delta_log_GDP' : [var_4_forecast[0]], \n",
    "                            'infl': [var_4_forecast[1]], \n",
    "                            'tspread': [var_4_forecast[2]]})\n",
    "\n",
    "    # append the forecasted value to the list\n",
    "    var_4_forecasts = pd.concat([var_4_forecasts, temp_df])\n",
    "\n",
    "    # roll the window\n",
    "    t += 1"
   ]
  },
  {
   "cell_type": "markdown",
   "metadata": {},
   "source": [
    "### **Model: VAR(p)**"
   ]
  },
  {
   "cell_type": "code",
   "execution_count": null,
   "metadata": {},
   "outputs": [],
   "source": [
    "var_p_forecasts = pd.DataFrame(columns=['delta_log_GDP', 'infl', 'tspread'])\n",
    "\n",
    "window_size = 100\n",
    "\n",
    "t = 0\n",
    "\n",
    "for i in range(1, 135):\n",
    "\n",
    "    # determine the training data at each step\n",
    "    current_window = df_var.iloc[t:t+window_size]\n",
    "\n",
    "    # create the model and fit it\n",
    "    var_p_model = VAR(current_window) \n",
    "    x = var_p_model.select_order()\n",
    "    p = x.selected_orders['aic']\n",
    "\n",
    "    var_p_results = var_p_model.fit(p)\n",
    "\n",
    "    # forecast the next observation\n",
    "    var_p_forecast = var_p_results.forecast(y = current_window.values[-p:], steps = 1)[0]\n",
    "    temp_df = pd.DataFrame({'delta_log_GDP' : [var_p_forecast[0]], \n",
    "                            'infl': [var_p_forecast[1]], \n",
    "                            'tspread': [var_p_forecast[2]]})\n",
    "\n",
    "    # append the forecasted value to the list\n",
    "    var_p_forecasts = pd.concat([var_p_forecasts, temp_df])\n",
    "\n",
    "    # roll the window\n",
    "    t += 1"
   ]
  },
  {
   "cell_type": "markdown",
   "metadata": {},
   "source": [
    "### **Model: AR(4)-X**"
   ]
  },
  {
   "cell_type": "code",
   "execution_count": 121,
   "metadata": {},
   "outputs": [
    {
     "name": "stderr",
     "output_type": "stream",
     "text": [
      "c:\\Users\\tifos\\AppData\\Local\\Programs\\Python\\Python311\\Lib\\site-packages\\statsmodels\\base\\model.py:607: ConvergenceWarning: Maximum Likelihood optimization failed to converge. Check mle_retvals\n",
      "  warnings.warn(\"Maximum Likelihood optimization failed to \"\n",
      "c:\\Users\\tifos\\AppData\\Local\\Programs\\Python\\Python311\\Lib\\site-packages\\statsmodels\\base\\model.py:607: ConvergenceWarning: Maximum Likelihood optimization failed to converge. Check mle_retvals\n",
      "  warnings.warn(\"Maximum Likelihood optimization failed to \"\n",
      "c:\\Users\\tifos\\AppData\\Local\\Programs\\Python\\Python311\\Lib\\site-packages\\statsmodels\\base\\model.py:607: ConvergenceWarning: Maximum Likelihood optimization failed to converge. Check mle_retvals\n",
      "  warnings.warn(\"Maximum Likelihood optimization failed to \"\n",
      "c:\\Users\\tifos\\AppData\\Local\\Programs\\Python\\Python311\\Lib\\site-packages\\statsmodels\\base\\model.py:607: ConvergenceWarning: Maximum Likelihood optimization failed to converge. Check mle_retvals\n",
      "  warnings.warn(\"Maximum Likelihood optimization failed to \"\n",
      "c:\\Users\\tifos\\AppData\\Local\\Programs\\Python\\Python311\\Lib\\site-packages\\statsmodels\\base\\model.py:607: ConvergenceWarning: Maximum Likelihood optimization failed to converge. Check mle_retvals\n",
      "  warnings.warn(\"Maximum Likelihood optimization failed to \"\n",
      "c:\\Users\\tifos\\AppData\\Local\\Programs\\Python\\Python311\\Lib\\site-packages\\statsmodels\\base\\model.py:607: ConvergenceWarning: Maximum Likelihood optimization failed to converge. Check mle_retvals\n",
      "  warnings.warn(\"Maximum Likelihood optimization failed to \"\n",
      "c:\\Users\\tifos\\AppData\\Local\\Programs\\Python\\Python311\\Lib\\site-packages\\statsmodels\\base\\model.py:607: ConvergenceWarning: Maximum Likelihood optimization failed to converge. Check mle_retvals\n",
      "  warnings.warn(\"Maximum Likelihood optimization failed to \"\n",
      "c:\\Users\\tifos\\AppData\\Local\\Programs\\Python\\Python311\\Lib\\site-packages\\statsmodels\\base\\model.py:607: ConvergenceWarning: Maximum Likelihood optimization failed to converge. Check mle_retvals\n",
      "  warnings.warn(\"Maximum Likelihood optimization failed to \"\n",
      "c:\\Users\\tifos\\AppData\\Local\\Programs\\Python\\Python311\\Lib\\site-packages\\statsmodels\\base\\model.py:607: ConvergenceWarning: Maximum Likelihood optimization failed to converge. Check mle_retvals\n",
      "  warnings.warn(\"Maximum Likelihood optimization failed to \"\n",
      "c:\\Users\\tifos\\AppData\\Local\\Programs\\Python\\Python311\\Lib\\site-packages\\statsmodels\\base\\model.py:607: ConvergenceWarning: Maximum Likelihood optimization failed to converge. Check mle_retvals\n",
      "  warnings.warn(\"Maximum Likelihood optimization failed to \"\n",
      "c:\\Users\\tifos\\AppData\\Local\\Programs\\Python\\Python311\\Lib\\site-packages\\statsmodels\\base\\model.py:607: ConvergenceWarning: Maximum Likelihood optimization failed to converge. Check mle_retvals\n",
      "  warnings.warn(\"Maximum Likelihood optimization failed to \"\n",
      "c:\\Users\\tifos\\AppData\\Local\\Programs\\Python\\Python311\\Lib\\site-packages\\statsmodels\\base\\model.py:607: ConvergenceWarning: Maximum Likelihood optimization failed to converge. Check mle_retvals\n",
      "  warnings.warn(\"Maximum Likelihood optimization failed to \"\n",
      "c:\\Users\\tifos\\AppData\\Local\\Programs\\Python\\Python311\\Lib\\site-packages\\statsmodels\\base\\model.py:607: ConvergenceWarning: Maximum Likelihood optimization failed to converge. Check mle_retvals\n",
      "  warnings.warn(\"Maximum Likelihood optimization failed to \"\n",
      "c:\\Users\\tifos\\AppData\\Local\\Programs\\Python\\Python311\\Lib\\site-packages\\statsmodels\\base\\model.py:607: ConvergenceWarning: Maximum Likelihood optimization failed to converge. Check mle_retvals\n",
      "  warnings.warn(\"Maximum Likelihood optimization failed to \"\n",
      "c:\\Users\\tifos\\AppData\\Local\\Programs\\Python\\Python311\\Lib\\site-packages\\statsmodels\\base\\model.py:607: ConvergenceWarning: Maximum Likelihood optimization failed to converge. Check mle_retvals\n",
      "  warnings.warn(\"Maximum Likelihood optimization failed to \"\n",
      "c:\\Users\\tifos\\AppData\\Local\\Programs\\Python\\Python311\\Lib\\site-packages\\statsmodels\\base\\model.py:607: ConvergenceWarning: Maximum Likelihood optimization failed to converge. Check mle_retvals\n",
      "  warnings.warn(\"Maximum Likelihood optimization failed to \"\n",
      "c:\\Users\\tifos\\AppData\\Local\\Programs\\Python\\Python311\\Lib\\site-packages\\statsmodels\\base\\model.py:607: ConvergenceWarning: Maximum Likelihood optimization failed to converge. Check mle_retvals\n",
      "  warnings.warn(\"Maximum Likelihood optimization failed to \"\n",
      "c:\\Users\\tifos\\AppData\\Local\\Programs\\Python\\Python311\\Lib\\site-packages\\statsmodels\\base\\model.py:607: ConvergenceWarning: Maximum Likelihood optimization failed to converge. Check mle_retvals\n",
      "  warnings.warn(\"Maximum Likelihood optimization failed to \"\n",
      "c:\\Users\\tifos\\AppData\\Local\\Programs\\Python\\Python311\\Lib\\site-packages\\statsmodels\\base\\model.py:607: ConvergenceWarning: Maximum Likelihood optimization failed to converge. Check mle_retvals\n",
      "  warnings.warn(\"Maximum Likelihood optimization failed to \"\n",
      "c:\\Users\\tifos\\AppData\\Local\\Programs\\Python\\Python311\\Lib\\site-packages\\statsmodels\\base\\model.py:607: ConvergenceWarning: Maximum Likelihood optimization failed to converge. Check mle_retvals\n",
      "  warnings.warn(\"Maximum Likelihood optimization failed to \"\n",
      "c:\\Users\\tifos\\AppData\\Local\\Programs\\Python\\Python311\\Lib\\site-packages\\statsmodels\\base\\model.py:607: ConvergenceWarning: Maximum Likelihood optimization failed to converge. Check mle_retvals\n",
      "  warnings.warn(\"Maximum Likelihood optimization failed to \"\n",
      "c:\\Users\\tifos\\AppData\\Local\\Programs\\Python\\Python311\\Lib\\site-packages\\statsmodels\\base\\model.py:607: ConvergenceWarning: Maximum Likelihood optimization failed to converge. Check mle_retvals\n",
      "  warnings.warn(\"Maximum Likelihood optimization failed to \"\n",
      "c:\\Users\\tifos\\AppData\\Local\\Programs\\Python\\Python311\\Lib\\site-packages\\statsmodels\\base\\model.py:607: ConvergenceWarning: Maximum Likelihood optimization failed to converge. Check mle_retvals\n",
      "  warnings.warn(\"Maximum Likelihood optimization failed to \"\n",
      "c:\\Users\\tifos\\AppData\\Local\\Programs\\Python\\Python311\\Lib\\site-packages\\statsmodels\\base\\model.py:607: ConvergenceWarning: Maximum Likelihood optimization failed to converge. Check mle_retvals\n",
      "  warnings.warn(\"Maximum Likelihood optimization failed to \"\n",
      "c:\\Users\\tifos\\AppData\\Local\\Programs\\Python\\Python311\\Lib\\site-packages\\statsmodels\\base\\model.py:607: ConvergenceWarning: Maximum Likelihood optimization failed to converge. Check mle_retvals\n",
      "  warnings.warn(\"Maximum Likelihood optimization failed to \"\n",
      "c:\\Users\\tifos\\AppData\\Local\\Programs\\Python\\Python311\\Lib\\site-packages\\statsmodels\\base\\model.py:607: ConvergenceWarning: Maximum Likelihood optimization failed to converge. Check mle_retvals\n",
      "  warnings.warn(\"Maximum Likelihood optimization failed to \"\n",
      "c:\\Users\\tifos\\AppData\\Local\\Programs\\Python\\Python311\\Lib\\site-packages\\statsmodels\\base\\model.py:607: ConvergenceWarning: Maximum Likelihood optimization failed to converge. Check mle_retvals\n",
      "  warnings.warn(\"Maximum Likelihood optimization failed to \"\n",
      "c:\\Users\\tifos\\AppData\\Local\\Programs\\Python\\Python311\\Lib\\site-packages\\statsmodels\\base\\model.py:607: ConvergenceWarning: Maximum Likelihood optimization failed to converge. Check mle_retvals\n",
      "  warnings.warn(\"Maximum Likelihood optimization failed to \"\n",
      "c:\\Users\\tifos\\AppData\\Local\\Programs\\Python\\Python311\\Lib\\site-packages\\statsmodels\\base\\model.py:607: ConvergenceWarning: Maximum Likelihood optimization failed to converge. Check mle_retvals\n",
      "  warnings.warn(\"Maximum Likelihood optimization failed to \"\n"
     ]
    }
   ],
   "source": [
    "ar_x_forecasts = []\n",
    "pca = PCA(n_components=1)\n",
    "\n",
    "window_size = 100\n",
    "\n",
    "t = 0\n",
    "\n",
    "for i in range(1, 135):\n",
    "\n",
    "    # determine the training data at each step\n",
    "    current_window = df.iloc[t:t+window_size]\n",
    "\n",
    "    # create the model and fit it\n",
    "    curr_stand_factors = stand_factors[t:t+window_size]\n",
    "\n",
    "    Pcs = pca.fit_transform(curr_stand_factors)\n",
    "    first_PC = Pcs[-1]\n",
    "\n",
    "    ar_x_model = SARIMAX(current_window['delta_log_GDP'], exog = Pcs,  order = (4,0,0)) \n",
    "        \n",
    "    ar_x_results = ar_x_model.fit()\n",
    "\n",
    "    # forecast the next observation\n",
    "    ar_x_forecast = ar_x_results.forecast(steps=1, exog = first_PC)\n",
    "\n",
    "    # append the forecasted value to the list\n",
    "    ar_x_forecasts.append(ar_x_forecast.iloc[0])\n",
    "\n",
    "    # roll the window\n",
    "    t += 1\n"
   ]
  },
  {
   "cell_type": "code",
   "execution_count": 129,
   "metadata": {},
   "outputs": [
    {
     "data": {
      "text/plain": [
       "100    5.91e-03\n",
       "101    1.42e-03\n",
       "102   -1.94e-03\n",
       "103    4.82e-04\n",
       "104   -7.90e-03\n",
       "         ...   \n",
       "229   -2.28e-03\n",
       "230    4.62e-04\n",
       "231   -2.11e-04\n",
       "232   -2.53e-03\n",
       "233   -6.03e-03\n",
       "Name: delta_log_GDP, Length: 134, dtype: float64"
      ]
     },
     "execution_count": 129,
     "metadata": {},
     "output_type": "execute_result"
    }
   ],
   "source": [
    "ar_x_forecasts - df['delta_log_GDP'][100:]"
   ]
  },
  {
   "cell_type": "code",
   "execution_count": 133,
   "metadata": {},
   "outputs": [
    {
     "data": {
      "text/plain": [
       "<matplotlib.legend.Legend at 0x2693ca383d0>"
      ]
     },
     "execution_count": 133,
     "metadata": {},
     "output_type": "execute_result"
    },
    {
     "data": {
      "image/png": "[encoded data removed]",
      "text/plain": [
       "<Figure size 640x480 with 1 Axes>"
      ]
     },
     "metadata": {},
     "output_type": "display_data"
    }
   ],
   "source": [
    "plt.plot(df['Time'].iloc[100:], ar_4_forecasts, label='True Change')\n",
    "plt.plot(df['Time'].iloc[100:], ar_x_forecasts, label='AR(4) prediction for the change')\n",
    "plt.title('True Change vs. AR(4) predictions')\n",
    "plt.xlabel('Time')\n",
    "plt.grid()\n",
    "plt.xlim()\n",
    "plt.axvline(x=pd.to_datetime('1985-06-30'), color='red', linestyle='--', label='1985:Q2')\n",
    "plt.legend()"
   ]
  }
 ],
 "metadata": {
  "kernelspec": {
   "display_name": "Python 3",
   "language": "python",
   "name": "python3"
  },
  "language_info": {
   "codemirror_mode": {
    "name": "ipython",
    "version": 3
   },
   "file_extension": ".py",
   "mimetype": "text/x-python",
   "name": "python",
   "nbconvert_exporter": "python",
   "pygments_lexer": "ipython3",
   "version": "3.11.2"
  }
 },
 "nbformat": 4,
 "nbformat_minor": 2
}
